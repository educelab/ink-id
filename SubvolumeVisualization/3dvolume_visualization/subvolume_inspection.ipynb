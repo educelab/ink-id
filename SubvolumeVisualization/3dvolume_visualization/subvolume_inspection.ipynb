{
 "cells": [
  {
   "cell_type": "markdown",
   "metadata": {},
   "source": [
    "# subvolume_inspection\n",
    "\n",
    "Purpose: to be able to see slices of the subvolume on all three axis + Plotly 3D rendering in one place."
   ]
  },
  {
   "cell_type": "markdown",
   "metadata": {},
   "source": [
    "## First things first"
   ]
  },
  {
   "cell_type": "code",
   "execution_count": null,
   "metadata": {},
   "outputs": [],
   "source": [
    "# Read from the dataset info file\n",
    "import configparser\n",
    "data_info = configparser.ConfigParser()\n",
    "data_info.read('input_data.info')"
   ]
  },
  {
   "cell_type": "code",
   "execution_count": null,
   "metadata": {},
   "outputs": [],
   "source": [
    "# Save output images or not\n",
    "save_data = data_info['images']['save_data']\n",
    "\n",
    "# Define input data\n",
    "data_dir = data_info['input_data']['data_dir']\n",
    "input_prefix = data_info['input_data']['input_prefix']\n",
    "\n",
    "# Define output data\n",
    "output_prefix = data_info['output']['output_prefix']"
   ]
  },
  {
   "cell_type": "code",
   "execution_count": null,
   "metadata": {},
   "outputs": [],
   "source": [
    " # Sanity check\n",
    "print(\"save_data: \", save_data)\n",
    "print(\"data_dir: \", data_dir)\n",
    "print(\"input_prefix: \", input_prefix)\n",
    "print(\"output_prefix: \", output_prefix)"
   ]
  },
  {
   "cell_type": "code",
   "execution_count": null,
   "metadata": {},
   "outputs": [],
   "source": [
    " # Create output dir\n",
    "import os\n",
    "if save_data:\n",
    "    output_dir = f'{output_prefix}/{data_dir}'\n",
    "    print(\"output_dir: \", output_dir)\n",
    "    \n",
    "    if not os.path.exists(output_dir):      \n",
    "        os.makedirs(output_dir)"
   ]
  },
  {
   "cell_type": "markdown",
   "metadata": {},
   "source": [
    "## Load input subvolume data"
   ]
  },
  {
   "cell_type": "code",
   "execution_count": null,
   "metadata": {},
   "outputs": [],
   "source": [
    "import numpy as np\n",
    "from pathlib import Path\n",
    "from PIL import Image\n",
    "import re"
   ]
  },
  {
   "cell_type": "code",
   "execution_count": null,
   "metadata": {},
   "outputs": [],
   "source": [
    "dataset_dir = Path(f'{input_prefix}/{data_dir}/')\n",
    "\n",
    "# print(dataset_dir)\n",
    "files = list(dataset_dir.glob('*.tif'))\n",
    "files.sort(key=lambda f: int(re.sub(r'[^0-9]*', \"\", str(f))))\n",
    "\n",
    "print(files)"
   ]
  },
  {
   "cell_type": "markdown",
   "metadata": {},
   "source": [
    "## Load data for inspection"
   ]
  },
  {
   "cell_type": "code",
   "execution_count": null,
   "metadata": {},
   "outputs": [],
   "source": [
    "subvolume = []\n",
    "images = []\n",
    "for f in files:\n",
    "  i = Image.open(f)\n",
    "  subvolume.append(np.array(Image.open(f), dtype=np.float32))\n",
    "  images.append(i)\n",
    "\n",
    "# convert to numpy\n",
    "subvolume = np.array(subvolume) \n",
    "print(np.shape(subvolume))"
   ]
  },
  {
   "cell_type": "markdown",
   "metadata": {},
   "source": [
    "## 2D slices along x, y, z axes"
   ]
  },
  {
   "cell_type": "code",
   "execution_count": null,
   "metadata": {},
   "outputs": [],
   "source": [
    "import matplotlib.pyplot as plt\n",
    "import math\n",
    "\n",
    "x_slices, y_slices, z_slices = np.shape(subvolume)\n",
    "imgs_in_row = 6"
   ]
  },
  {
   "cell_type": "code",
   "execution_count": null,
   "metadata": {},
   "outputs": [],
   "source": [
    "cmap_choice=\"jet\""
   ]
  },
  {
   "cell_type": "code",
   "execution_count": null,
   "metadata": {},
   "outputs": [],
   "source": [
    "# Display x slices\n",
    "num_rows =  math.ceil(x_slices/imgs_in_row)\n",
    "figsize = (imgs_in_row*y_slices/15, num_rows*z_slices/12)\n",
    "f, ax_arr = plt.subplots(num_rows, imgs_in_row, figsize=figsize)\n",
    "for j, row in enumerate(ax_arr):\n",
    "    for i, ax in enumerate(row):\n",
    "      if j*imgs_in_row+i < x_slices:\n",
    "        ax.imshow(subvolume[j*imgs_in_row+i, :, :],cmap=cmap_choice)\n",
    "        ax.set_title(f'x-slice {j*imgs_in_row+i}')\n",
    "  \n",
    "title = data_dir + ': x slices'\n",
    "f.suptitle(title, fontsize=16)\n",
    "if save_data:\n",
    "    plt.savefig(f'{output_dir}/x_slices.png')\n",
    "plt.show()"
   ]
  },
  {
   "cell_type": "code",
   "execution_count": null,
   "metadata": {},
   "outputs": [],
   "source": [
    "# Display y slices\n",
    "num_rows =  math.ceil(y_slices/imgs_in_row)\n",
    "figsize = (imgs_in_row*z_slices/15, num_rows*x_slices/12)\n",
    "f, ax_arr = plt.subplots(num_rows, imgs_in_row, figsize=figsize)\n",
    "for j, row in enumerate(ax_arr):\n",
    "    for i, ax in enumerate(row):\n",
    "      if j*imgs_in_row+i < y_slices:\n",
    "        ax.imshow(subvolume[:,j*imgs_in_row+i, :],cmap=cmap_choice)\n",
    "        ax.set_title(f'y-slice {j*imgs_in_row+i}')\n",
    "  \n",
    "title = data_dir + ': y slices'\n",
    "f.suptitle(title, fontsize=16)\n",
    "\n",
    "if save_data:\n",
    "    plt.savefig(f'{output_dir}/y_slices.png')\n",
    "plt.show()"
   ]
  },
  {
   "cell_type": "code",
   "execution_count": null,
   "metadata": {},
   "outputs": [],
   "source": [
    "# Display z slices\n",
    "num_rows =  math.ceil(z_slices/imgs_in_row)\n",
    "figsize = (imgs_in_row*y_slices/15, num_rows*x_slices/12)\n",
    "f, ax_arr = plt.subplots(num_rows, imgs_in_row, figsize=figsize)\n",
    "for j, row in enumerate(ax_arr):\n",
    "    for i, ax in enumerate(row):\n",
    "      if j*imgs_in_row+i < z_slices:\n",
    "        ax.imshow(subvolume[:,:, j*imgs_in_row+i], cmap=cmap_choice)\n",
    "        ax.set_title(f'z-slice {j*imgs_in_row+i}')\n",
    "  \n",
    "title = data_dir + ': z slices'\n",
    "f.suptitle(title, fontsize=16)\n",
    "\n",
    "if save_data:\n",
    "    plt.savefig(f'{output_dir}/z_slices.png')\n",
    "plt.show()"
   ]
  },
  {
   "cell_type": "code",
   "execution_count": null,
   "metadata": {},
   "outputs": [],
   "source": [
    "print(x_slices, y_slices, z_slices)\n",
    "print(np.shape(subvolume))"
   ]
  },
  {
   "cell_type": "markdown",
   "metadata": {},
   "source": [
    "## 3D rendering using Plotly"
   ]
  },
  {
   "cell_type": "code",
   "execution_count": null,
   "metadata": {},
   "outputs": [],
   "source": [
    "color_choice=\"jet\"\n",
    "#color_choice=\"rainbow\""
   ]
  },
  {
   "cell_type": "code",
   "execution_count": null,
   "metadata": {},
   "outputs": [],
   "source": [
    "#import plotly\n",
    "#plotly.__version__"
   ]
  },
  {
   "cell_type": "code",
   "execution_count": null,
   "metadata": {},
   "outputs": [],
   "source": [
    "#save_data = False"
   ]
  },
  {
   "cell_type": "code",
   "execution_count": null,
   "metadata": {},
   "outputs": [],
   "source": [
    "import plotly.graph_objects as go\n",
    "\n",
    "#voxel_size_um = 12.0\n",
    "voxel_size_um = 1\n",
    "\n",
    "#### \n",
    "### There seems to be a strange bug or something that prevents this 3D size from plotting correctly\n",
    "### When it is np.mgrid[0:24, 0:64, 0:64], it does not result in a cube\n",
    "### but when it is [0:12, ....] it does\n",
    "### \n",
    "X, Y, Z = np.mgrid[0:x_slices, 0:y_slices, 0:z_slices]\n",
    "#X, Y, Z = np.mgrid[0:16, 0:64, 0:64]\n",
    "\n",
    "vol = go.Volume(\n",
    "      name=data_dir,\n",
    "      x = X.flatten(),\n",
    "      y = Y.flatten(),\n",
    "      z = Z.flatten(),\n",
    "      value = subvolume.flatten(),\n",
    "      opacity = 0.3,\n",
    "      opacityscale = 0.3,\n",
    "      surface_count = 10,\n",
    "      colorscale=color_choice,\n",
    "      isomax = 40000,\n",
    "      #isomin = 20000,\n",
    "      #slices_z = dict(show=True, locations=[10]),\n",
    "    )\n",
    "fig = go.Figure(data=vol)\n",
    "\n",
    "\n",
    "def generate_ticks(axis, interval, size_um=None):\n",
    "  vals=[]\n",
    "  ticks =[]\n",
    "\n",
    "  if not size_um:\n",
    "    size_um=1\n",
    "  for i in range(0, axis, interval):\n",
    "    vals.append(i)\n",
    "    ticks.append(i*size_um)\n",
    "  return (vals, [str(tick) for tick in ticks])\n",
    "\n",
    "x_vals, x_ticks = generate_ticks(x_slices, 8)\n",
    "y_vals, y_ticks = generate_ticks(y_slices, 8)\n",
    "z_vals, z_ticks = generate_ticks(z_slices, 8)\n",
    "\n",
    "fig.update_layout(scene = dict(\n",
    "                    xaxis = dict(\n",
    "                        ticktext=x_ticks,\n",
    "                        tickvals=x_vals),\n",
    "                    yaxis = dict(\n",
    "                        ticktext=y_ticks,\n",
    "                        tickvals=y_vals),\n",
    "                    zaxis = dict(\n",
    "                        ticktext=z_ticks,\n",
    "                        tickvals=z_vals)),\n",
    "                 scene_aspectmode='data')\n",
    "\n",
    "if save_data:\n",
    "    fig.to_image(format=\"png\", engine=\"kaleido\")\n",
    "    fig.write_image(f'{output_dir}/plotly_volume.png')\n",
    "\n",
    "    \n",
    "fig.show()"
   ]
  },
  {
   "cell_type": "code",
   "execution_count": null,
   "metadata": {},
   "outputs": [],
   "source": []
  },
  {
   "cell_type": "code",
   "execution_count": null,
   "metadata": {},
   "outputs": [],
   "source": []
  }
 ],
 "metadata": {
  "kernelspec": {
   "display_name": "Python 3",
   "language": "python",
   "name": "python3"
  },
  "language_info": {
   "codemirror_mode": {
    "name": "ipython",
    "version": 3
   },
   "file_extension": ".py",
   "mimetype": "text/x-python",
   "name": "python",
   "nbconvert_exporter": "python",
   "pygments_lexer": "ipython3",
   "version": "3.8.10"
  }
 },
 "nbformat": 4,
 "nbformat_minor": 4
}
